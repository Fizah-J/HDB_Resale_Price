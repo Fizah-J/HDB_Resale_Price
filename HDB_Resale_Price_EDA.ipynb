{
 "cells": [
  {
   "cell_type": "markdown",
   "id": "b184332a-736e-4734-a3d8-48fd33b07f47",
   "metadata": {},
   "source": [
    "## Importing Libraries"
   ]
  },
  {
   "cell_type": "code",
   "execution_count": 94,
   "id": "23c97baf-0183-4234-81da-0ab71713d14b",
   "metadata": {},
   "outputs": [],
   "source": [
    "import numpy as np\n",
    "import pandas as pd\n",
    "import matplotlib.pyplot as plt\n",
    "import seaborn as sns"
   ]
  },
  {
   "cell_type": "markdown",
   "id": "897b0a41-6d82-45ed-a7b2-b87ebc51759d",
   "metadata": {},
   "source": [
    "### Load Dataset"
   ]
  },
  {
   "cell_type": "code",
   "execution_count": 97,
   "id": "96a4fc49-8c7c-4b60-b166-700a8c20c534",
   "metadata": {},
   "outputs": [],
   "source": [
    "hdb_resale_od = r\"C:\\Users\\fizah\\Documents\\WordPress Site\\Data Analyst Site\\hdb_main_data.csv\"\n",
    "df_hdb_resale_price = pd.read_csv(hdb_resale_od)"
   ]
  },
  {
   "cell_type": "code",
   "execution_count": 99,
   "id": "e058aaa5-8dbc-4746-8586-c0e4c4638d35",
   "metadata": {},
   "outputs": [
    {
     "name": "stdout",
     "output_type": "stream",
     "text": [
      "     month        town flat_type block        street_name storey_range  \\\n",
      "0  2017-01  ANG MO KIO    2 ROOM   406  ANG MO KIO AVE 10     10 TO 12   \n",
      "1  2017-01  ANG MO KIO    3 ROOM   108   ANG MO KIO AVE 4     01 TO 03   \n",
      "2  2017-01  ANG MO KIO    3 ROOM   602   ANG MO KIO AVE 5     01 TO 03   \n",
      "3  2017-01  ANG MO KIO    3 ROOM   465  ANG MO KIO AVE 10     04 TO 06   \n",
      "4  2017-01  ANG MO KIO    3 ROOM   601   ANG MO KIO AVE 5     01 TO 03   \n",
      "\n",
      "   floor_area_sqm      flat_model  lease_commence_date     remaining_lease  \\\n",
      "0            44.0        Improved                 1979  61 years 04 months   \n",
      "1            67.0  New Generation                 1978  60 years 07 months   \n",
      "2            67.0  New Generation                 1980  62 years 05 months   \n",
      "3            68.0  New Generation                 1980   62 years 01 month   \n",
      "4            67.0  New Generation                 1980  62 years 05 months   \n",
      "\n",
      "   resale_price  \n",
      "0      232000.0  \n",
      "1      250000.0  \n",
      "2      262000.0  \n",
      "3      265000.0  \n",
      "4      265000.0  \n"
     ]
    }
   ],
   "source": [
    "print(df_hdb_resale_price.head())"
   ]
  },
  {
   "cell_type": "markdown",
   "id": "a1069777-5f12-41de-ba5f-207d33ce2a47",
   "metadata": {},
   "source": [
    "### View information on the Dataset"
   ]
  },
  {
   "cell_type": "code",
   "execution_count": 102,
   "id": "ad3319a4-de94-4959-87c4-7ad1e7b13acd",
   "metadata": {},
   "outputs": [
    {
     "name": "stdout",
     "output_type": "stream",
     "text": [
      "<class 'pandas.core.frame.DataFrame'>\n",
      "RangeIndex: 198412 entries, 0 to 198411\n",
      "Data columns (total 11 columns):\n",
      " #   Column               Non-Null Count   Dtype  \n",
      "---  ------               --------------   -----  \n",
      " 0   month                198412 non-null  object \n",
      " 1   town                 198412 non-null  object \n",
      " 2   flat_type            198412 non-null  object \n",
      " 3   block                198412 non-null  object \n",
      " 4   street_name          198412 non-null  object \n",
      " 5   storey_range         198412 non-null  object \n",
      " 6   floor_area_sqm       198412 non-null  float64\n",
      " 7   flat_model           198412 non-null  object \n",
      " 8   lease_commence_date  198412 non-null  int64  \n",
      " 9   remaining_lease      198412 non-null  object \n",
      " 10  resale_price         198412 non-null  float64\n",
      "dtypes: float64(2), int64(1), object(8)\n",
      "memory usage: 16.7+ MB\n"
     ]
    }
   ],
   "source": [
    "df_hdb_resale_price.info()"
   ]
  },
  {
   "cell_type": "code",
   "execution_count": 104,
   "id": "4ad607f4-cfb8-46b4-be00-277e716e8b2b",
   "metadata": {},
   "outputs": [
    {
     "data": {
      "text/plain": [
       "(198412, 11)"
      ]
     },
     "execution_count": 104,
     "metadata": {},
     "output_type": "execute_result"
    }
   ],
   "source": [
    "df_hdb_resale_price.shape"
   ]
  },
  {
   "cell_type": "code",
   "execution_count": 106,
   "id": "31027ba4-1eeb-44e9-b02e-27ac403c3d22",
   "metadata": {},
   "outputs": [
    {
     "data": {
      "text/html": [
       "<div>\n",
       "<style scoped>\n",
       "    .dataframe tbody tr th:only-of-type {\n",
       "        vertical-align: middle;\n",
       "    }\n",
       "\n",
       "    .dataframe tbody tr th {\n",
       "        vertical-align: top;\n",
       "    }\n",
       "\n",
       "    .dataframe thead th {\n",
       "        text-align: right;\n",
       "    }\n",
       "</style>\n",
       "<table border=\"1\" class=\"dataframe\">\n",
       "  <thead>\n",
       "    <tr style=\"text-align: right;\">\n",
       "      <th></th>\n",
       "      <th>month</th>\n",
       "      <th>town</th>\n",
       "      <th>flat_type</th>\n",
       "      <th>block</th>\n",
       "      <th>street_name</th>\n",
       "      <th>storey_range</th>\n",
       "      <th>floor_area_sqm</th>\n",
       "      <th>flat_model</th>\n",
       "      <th>lease_commence_date</th>\n",
       "      <th>remaining_lease</th>\n",
       "      <th>resale_price</th>\n",
       "    </tr>\n",
       "  </thead>\n",
       "  <tbody>\n",
       "    <tr>\n",
       "      <th>0</th>\n",
       "      <td>2017-01</td>\n",
       "      <td>ANG MO KIO</td>\n",
       "      <td>2 ROOM</td>\n",
       "      <td>406</td>\n",
       "      <td>ANG MO KIO AVE 10</td>\n",
       "      <td>10 TO 12</td>\n",
       "      <td>44.0</td>\n",
       "      <td>Improved</td>\n",
       "      <td>1979</td>\n",
       "      <td>61 years 04 months</td>\n",
       "      <td>232000.0</td>\n",
       "    </tr>\n",
       "    <tr>\n",
       "      <th>1</th>\n",
       "      <td>2017-01</td>\n",
       "      <td>ANG MO KIO</td>\n",
       "      <td>3 ROOM</td>\n",
       "      <td>108</td>\n",
       "      <td>ANG MO KIO AVE 4</td>\n",
       "      <td>01 TO 03</td>\n",
       "      <td>67.0</td>\n",
       "      <td>New Generation</td>\n",
       "      <td>1978</td>\n",
       "      <td>60 years 07 months</td>\n",
       "      <td>250000.0</td>\n",
       "    </tr>\n",
       "    <tr>\n",
       "      <th>2</th>\n",
       "      <td>2017-01</td>\n",
       "      <td>ANG MO KIO</td>\n",
       "      <td>3 ROOM</td>\n",
       "      <td>602</td>\n",
       "      <td>ANG MO KIO AVE 5</td>\n",
       "      <td>01 TO 03</td>\n",
       "      <td>67.0</td>\n",
       "      <td>New Generation</td>\n",
       "      <td>1980</td>\n",
       "      <td>62 years 05 months</td>\n",
       "      <td>262000.0</td>\n",
       "    </tr>\n",
       "    <tr>\n",
       "      <th>3</th>\n",
       "      <td>2017-01</td>\n",
       "      <td>ANG MO KIO</td>\n",
       "      <td>3 ROOM</td>\n",
       "      <td>465</td>\n",
       "      <td>ANG MO KIO AVE 10</td>\n",
       "      <td>04 TO 06</td>\n",
       "      <td>68.0</td>\n",
       "      <td>New Generation</td>\n",
       "      <td>1980</td>\n",
       "      <td>62 years 01 month</td>\n",
       "      <td>265000.0</td>\n",
       "    </tr>\n",
       "    <tr>\n",
       "      <th>4</th>\n",
       "      <td>2017-01</td>\n",
       "      <td>ANG MO KIO</td>\n",
       "      <td>3 ROOM</td>\n",
       "      <td>601</td>\n",
       "      <td>ANG MO KIO AVE 5</td>\n",
       "      <td>01 TO 03</td>\n",
       "      <td>67.0</td>\n",
       "      <td>New Generation</td>\n",
       "      <td>1980</td>\n",
       "      <td>62 years 05 months</td>\n",
       "      <td>265000.0</td>\n",
       "    </tr>\n",
       "  </tbody>\n",
       "</table>\n",
       "</div>"
      ],
      "text/plain": [
       "     month        town flat_type block        street_name storey_range  \\\n",
       "0  2017-01  ANG MO KIO    2 ROOM   406  ANG MO KIO AVE 10     10 TO 12   \n",
       "1  2017-01  ANG MO KIO    3 ROOM   108   ANG MO KIO AVE 4     01 TO 03   \n",
       "2  2017-01  ANG MO KIO    3 ROOM   602   ANG MO KIO AVE 5     01 TO 03   \n",
       "3  2017-01  ANG MO KIO    3 ROOM   465  ANG MO KIO AVE 10     04 TO 06   \n",
       "4  2017-01  ANG MO KIO    3 ROOM   601   ANG MO KIO AVE 5     01 TO 03   \n",
       "\n",
       "   floor_area_sqm      flat_model  lease_commence_date     remaining_lease  \\\n",
       "0            44.0        Improved                 1979  61 years 04 months   \n",
       "1            67.0  New Generation                 1978  60 years 07 months   \n",
       "2            67.0  New Generation                 1980  62 years 05 months   \n",
       "3            68.0  New Generation                 1980   62 years 01 month   \n",
       "4            67.0  New Generation                 1980  62 years 05 months   \n",
       "\n",
       "   resale_price  \n",
       "0      232000.0  \n",
       "1      250000.0  \n",
       "2      262000.0  \n",
       "3      265000.0  \n",
       "4      265000.0  "
      ]
     },
     "execution_count": 106,
     "metadata": {},
     "output_type": "execute_result"
    }
   ],
   "source": [
    "df_hdb_resale_price.head()"
   ]
  },
  {
   "cell_type": "markdown",
   "id": "ba13ef1b-7ed1-414b-bbdc-8e624e957787",
   "metadata": {},
   "source": [
    "### Check if there are null values"
   ]
  },
  {
   "cell_type": "code",
   "execution_count": 109,
   "id": "fdce1860-ada8-4607-b5e3-20e1e1793236",
   "metadata": {},
   "outputs": [
    {
     "data": {
      "text/plain": [
       "month                  0\n",
       "town                   0\n",
       "flat_type              0\n",
       "block                  0\n",
       "street_name            0\n",
       "storey_range           0\n",
       "floor_area_sqm         0\n",
       "flat_model             0\n",
       "lease_commence_date    0\n",
       "remaining_lease        0\n",
       "resale_price           0\n",
       "dtype: int64"
      ]
     },
     "execution_count": 109,
     "metadata": {},
     "output_type": "execute_result"
    }
   ],
   "source": [
    "df_hdb_resale_price.isnull().sum()"
   ]
  },
  {
   "cell_type": "markdown",
   "id": "76080332-4566-4e10-bf2f-d1b9cd3ec4d1",
   "metadata": {},
   "source": [
    "### Check if there are duplicate values"
   ]
  },
  {
   "cell_type": "code",
   "execution_count": 112,
   "id": "7734868c-0c4f-45b6-9ba7-2bade8d4fe00",
   "metadata": {},
   "outputs": [
    {
     "name": "stdout",
     "output_type": "stream",
     "text": [
      "Duplicates: 297\n",
      "          month          town flat_type block        street_name storey_range  \\\n",
      "243     2017-01   BUKIT MERAH    4 ROOM   106     HENDERSON CRES     07 TO 09   \n",
      "305     2017-01  CENTRAL AREA    3 ROOM   271           QUEEN ST     16 TO 18   \n",
      "510     2017-01   JURONG EAST    4 ROOM   265        TOH GUAN RD     04 TO 06   \n",
      "591     2017-01   JURONG WEST    4 ROOM  337A       TAH CHING RD     19 TO 21   \n",
      "672     2017-01     PASIR RIS    4 ROOM   753    PASIR RIS ST 71     01 TO 03   \n",
      "...         ...           ...       ...   ...                ...          ...   \n",
      "188194  2024-10      SENGKANG    4 ROOM  329B      ANCHORVALE ST     10 TO 12   \n",
      "189467  2024-05      SENGKANG    5 ROOM  430D      FERNVALE LINK     19 TO 21   \n",
      "191070  2024-12      TAMPINES    4 ROOM  612A  TAMPINES NTH DR 1     10 TO 12   \n",
      "195945  2024-01        YISHUN    4 ROOM  462C       YISHUN AVE 6     01 TO 03   \n",
      "197429  2025-01       GEYLANG    4 ROOM   82B         CIRCUIT RD     19 TO 21   \n",
      "\n",
      "        floor_area_sqm flat_model  lease_commence_date     remaining_lease  \\\n",
      "243               81.0   Improved                 1975            57 years   \n",
      "305               68.0   Improved                 1979  61 years 02 months   \n",
      "510              101.0    Model A                 1998  80 years 09 months   \n",
      "591               92.0    Model A                 2010  92 years 03 months   \n",
      "672              105.0    Model A                 1996  78 years 10 months   \n",
      "...                ...        ...                  ...                 ...   \n",
      "188194            93.0    Model A                 2015  89 years 11 months   \n",
      "189467           112.0   Improved                 2015   90 years 01 month   \n",
      "191070            93.0    Model A                 2020  94 years 11 months   \n",
      "195945            93.0    Model A                 2019  94 years 08 months   \n",
      "197429            93.0    Model A                 2020  94 years 05 months   \n",
      "\n",
      "        resale_price  \n",
      "243         470000.0  \n",
      "305         470000.0  \n",
      "510         470000.0  \n",
      "591         470000.0  \n",
      "672         368000.0  \n",
      "...              ...  \n",
      "188194      695000.0  \n",
      "189467      770000.0  \n",
      "191070      780000.0  \n",
      "195945      530000.0  \n",
      "197429     1018000.0  \n",
      "\n",
      "[297 rows x 11 columns]\n"
     ]
    }
   ],
   "source": [
    "duplicates = df_hdb_resale_price[df_hdb_resale_price.duplicated()]\n",
    "\n",
    "#total count of duplicate rows in the DataFrame\n",
    "print('Duplicates:', len(duplicates))\n",
    "\n",
    "#print the duplicate rows\n",
    "print(duplicates)"
   ]
  },
  {
   "cell_type": "markdown",
   "id": "34ee15df-e237-4bd6-8676-e1944c8eb843",
   "metadata": {},
   "source": [
    "### Remove the duplicate values and modify the original DataFrame"
   ]
  },
  {
   "cell_type": "code",
   "execution_count": 115,
   "id": "907a0e2f-6f68-4c9d-9379-2707b74c4a15",
   "metadata": {},
   "outputs": [],
   "source": [
    "#creating a new DataFrame without duplicates while keeping the first occurence\n",
    "df_hdb_resale_price_no_duplicates = df_hdb_resale_price.drop_duplicates(keep='first')"
   ]
  },
  {
   "cell_type": "code",
   "execution_count": 117,
   "id": "05dfb00e-57f7-4744-9c50-1ca631c13571",
   "metadata": {},
   "outputs": [
    {
     "data": {
      "text/plain": [
       "(198412, 11)"
      ]
     },
     "execution_count": 117,
     "metadata": {},
     "output_type": "execute_result"
    }
   ],
   "source": [
    "df_hdb_resale_price.shape"
   ]
  },
  {
   "cell_type": "markdown",
   "id": "f27b3031-535b-4bdc-b3eb-c2de435089be",
   "metadata": {},
   "source": [
    "### Creating a new column; address by combininig block and street_name"
   ]
  },
  {
   "cell_type": "code",
   "execution_count": 120,
   "id": "a6a5162c-b755-404e-a377-05fbe00ffe0f",
   "metadata": {},
   "outputs": [],
   "source": [
    "df_hdb_resale_price['address'] = df_hdb_resale_price['block'] + ' ' + df_hdb_resale_price['street_name']"
   ]
  },
  {
   "cell_type": "code",
   "execution_count": 122,
   "id": "ba34ada8-1364-440f-8d52-1c404152a63f",
   "metadata": {},
   "outputs": [
    {
     "name": "stdout",
     "output_type": "stream",
     "text": [
      "          month        town  flat_type block        street_name storey_range  \\\n",
      "0       2017-01  ANG MO KIO     2 ROOM   406  ANG MO KIO AVE 10     10 TO 12   \n",
      "1       2017-01  ANG MO KIO     3 ROOM   108   ANG MO KIO AVE 4     01 TO 03   \n",
      "2       2017-01  ANG MO KIO     3 ROOM   602   ANG MO KIO AVE 5     01 TO 03   \n",
      "3       2017-01  ANG MO KIO     3 ROOM   465  ANG MO KIO AVE 10     04 TO 06   \n",
      "4       2017-01  ANG MO KIO     3 ROOM   601   ANG MO KIO AVE 5     01 TO 03   \n",
      "...         ...         ...        ...   ...                ...          ...   \n",
      "198407  2025-01      YISHUN     5 ROOM  502B       YISHUN ST 51     07 TO 09   \n",
      "198408  2025-01      YISHUN     5 ROOM   871       YISHUN ST 81     07 TO 09   \n",
      "198409  2025-01      YISHUN     5 ROOM   851       YISHUN ST 81     10 TO 12   \n",
      "198410  2025-01      YISHUN  EXECUTIVE   352     YISHUN RING RD     04 TO 06   \n",
      "198411  2025-01      YISHUN  EXECUTIVE   614       YISHUN ST 61     04 TO 06   \n",
      "\n",
      "        floor_area_sqm      flat_model  lease_commence_date  \\\n",
      "0                 44.0        Improved                 1979   \n",
      "1                 67.0  New Generation                 1978   \n",
      "2                 67.0  New Generation                 1980   \n",
      "3                 68.0  New Generation                 1980   \n",
      "4                 67.0  New Generation                 1980   \n",
      "...                ...             ...                  ...   \n",
      "198407           112.0        Improved                 2018   \n",
      "198408           122.0        Improved                 1988   \n",
      "198409           127.0        Improved                 1988   \n",
      "198410           146.0      Maisonette                 1988   \n",
      "198411           146.0      Maisonette                 1987   \n",
      "\n",
      "           remaining_lease  resale_price                address  \n",
      "0       61 years 04 months      232000.0  406 ANG MO KIO AVE 10  \n",
      "1       60 years 07 months      250000.0   108 ANG MO KIO AVE 4  \n",
      "2       62 years 05 months      262000.0   602 ANG MO KIO AVE 5  \n",
      "3        62 years 01 month      265000.0  465 ANG MO KIO AVE 10  \n",
      "4       62 years 05 months      265000.0   601 ANG MO KIO AVE 5  \n",
      "...                    ...           ...                    ...  \n",
      "198407   92 years 01 month      776000.0      502B YISHUN ST 51  \n",
      "198408  62 years 04 months      738000.0       871 YISHUN ST 81  \n",
      "198409  62 years 04 months      740000.0       851 YISHUN ST 81  \n",
      "198410  62 years 07 months     1008000.0     352 YISHUN RING RD  \n",
      "198411  61 years 05 months      800000.0       614 YISHUN ST 61  \n",
      "\n",
      "[198412 rows x 12 columns]\n"
     ]
    }
   ],
   "source": [
    "print(df_hdb_resale_price)"
   ]
  },
  {
   "cell_type": "markdown",
   "id": "e325d490-badc-453a-b639-dd07592b6ef3",
   "metadata": {},
   "source": [
    "### Grouping the town by region"
   ]
  },
  {
   "cell_type": "markdown",
   "id": "a85dd804-4691-4834-8274-50095dde1287",
   "metadata": {},
   "source": [
    "By referencing both the HDB website (https://www.hdb.gov.sg/about-us/history/hdb-towns-your-home) and https://www.propertyguru.com.sg/singapore-property-listing/hdb/kallang-whampoa, I categorize the towns by region. This classification will be beneficial for analyzing market trends and will help in understanding how different areas influence the housing market."
   ]
  },
  {
   "cell_type": "markdown",
   "id": "4d345338-39f2-4ba7-a84a-7599f1eb836e",
   "metadata": {},
   "source": [
    "**Function for categorizing the town into different regions based on its name**"
   ]
  },
  {
   "cell_type": "code",
   "execution_count": 127,
   "id": "ddba4a26-abf1-42c3-8991-5d1529f8ca9a",
   "metadata": {},
   "outputs": [],
   "source": [
    "def get_region(town):\n",
    "    # Define a dictionary mapping towns to their respective regions\n",
    "    regions = {\n",
    "        'CENTRAL REGION': ['BISHAN', 'BUKIT MERAH', 'GEYLANG', 'KALLANG', \n",
    "                           'MARINE PARADE', 'QUEENSTOWN', 'KALLANG/WHAMPOA', \n",
    "                           'BUKIT TIMAH', 'CENTRAL AREA', 'TOA PAYOH'],\n",
    "        'EAST REGION': ['BEDOK', 'CHANGI', 'CHANGI BAY', 'PAYA LEBAR', \n",
    "                        'PASIR RIS', 'TAMPINES'],\n",
    "        'NORTH REGION': ['MANDAI', 'LIM CHU KANG', 'SEMBAWANG', 'SIMPANG', \n",
    "                         'SUNGEI KADUT', 'WOODLANDS', 'YISHUN'],\n",
    "        'NORTH-EAST REGION': ['ANG MO KIO', 'HOUGANG', 'PUNGGOL', \n",
    "                              'SELETAR', 'SENGKANG', 'SERANGOON'],\n",
    "        'WEST REGION': ['BUKIT BATOK', 'BUKIT PANJANG', 'BOON LAY', \n",
    "                        'PIONEER', 'CHOA CHU KANG', 'CLEMENTI', \n",
    "                        'JURONG EAST', 'JURONG WEST', 'TENGAH', 'TUAS', \n",
    "                        'WESTERN ISLANDS', 'BENOI', 'GHIM MOH', \n",
    "                        'PANDAN GARDENS', 'JURONG ISLAND', 'KENT RIDGE', \n",
    "                        'NANYANG', 'PASIR LABA', 'TEBAN GARDENS', \n",
    "                        'TOH TUCK', 'TUAS SOUTH', 'WEST COAST']\n",
    "    }\n",
    "    \n",
    "    # Normalize the town name to upper case for comparison\n",
    "    town = town.upper()\n",
    "\n",
    "    # Loop through the dictionary to find the region\n",
    "    for region, towns in regions.items():\n",
    "        if town in towns:\n",
    "            return region\n",
    "            \n",
    "    return 'OTHER'"
   ]
  },
  {
   "cell_type": "code",
   "execution_count": 129,
   "id": "0c9ae06a-7913-4686-b5f9-fb6d2d41a855",
   "metadata": {},
   "outputs": [],
   "source": [
    "# Apply the function to the 'town' column and create a new 'region' column\n",
    "df_hdb_resale_price['region'] = df_hdb_resale_price['town'].apply(get_region)"
   ]
  },
  {
   "cell_type": "code",
   "execution_count": 131,
   "id": "3d467c50-811d-476d-9f95-91e732cb1d6e",
   "metadata": {},
   "outputs": [
    {
     "name": "stdout",
     "output_type": "stream",
     "text": [
      "      month        town flat_type block        street_name storey_range  \\\n",
      "0   2017-01  ANG MO KIO    2 ROOM   406  ANG MO KIO AVE 10     10 TO 12   \n",
      "1   2017-01  ANG MO KIO    3 ROOM   108   ANG MO KIO AVE 4     01 TO 03   \n",
      "2   2017-01  ANG MO KIO    3 ROOM   602   ANG MO KIO AVE 5     01 TO 03   \n",
      "3   2017-01  ANG MO KIO    3 ROOM   465  ANG MO KIO AVE 10     04 TO 06   \n",
      "4   2017-01  ANG MO KIO    3 ROOM   601   ANG MO KIO AVE 5     01 TO 03   \n",
      "5   2017-01  ANG MO KIO    3 ROOM   150   ANG MO KIO AVE 5     01 TO 03   \n",
      "6   2017-01  ANG MO KIO    3 ROOM   447  ANG MO KIO AVE 10     04 TO 06   \n",
      "7   2017-01  ANG MO KIO    3 ROOM   218   ANG MO KIO AVE 1     04 TO 06   \n",
      "8   2017-01  ANG MO KIO    3 ROOM   447  ANG MO KIO AVE 10     04 TO 06   \n",
      "9   2017-01  ANG MO KIO    3 ROOM   571   ANG MO KIO AVE 3     01 TO 03   \n",
      "10  2017-01  ANG MO KIO    3 ROOM   534  ANG MO KIO AVE 10     01 TO 03   \n",
      "11  2017-01  ANG MO KIO    3 ROOM   233   ANG MO KIO AVE 3     10 TO 12   \n",
      "12  2017-01  ANG MO KIO    3 ROOM   235   ANG MO KIO AVE 3     04 TO 06   \n",
      "13  2017-01  ANG MO KIO    3 ROOM   219   ANG MO KIO AVE 1     07 TO 09   \n",
      "14  2017-01  ANG MO KIO    3 ROOM   536  ANG MO KIO AVE 10     07 TO 09   \n",
      "15  2017-01  ANG MO KIO    3 ROOM   230   ANG MO KIO AVE 3     04 TO 06   \n",
      "16  2017-01  ANG MO KIO    3 ROOM   570   ANG MO KIO AVE 3     10 TO 12   \n",
      "17  2017-01  ANG MO KIO    3 ROOM   624   ANG MO KIO AVE 4     04 TO 06   \n",
      "18  2017-01  ANG MO KIO    3 ROOM   441  ANG MO KIO AVE 10     07 TO 09   \n",
      "19  2017-01  ANG MO KIO    3 ROOM   625   ANG MO KIO AVE 9     04 TO 06   \n",
      "\n",
      "    floor_area_sqm      flat_model  lease_commence_date     remaining_lease  \\\n",
      "0             44.0        Improved                 1979  61 years 04 months   \n",
      "1             67.0  New Generation                 1978  60 years 07 months   \n",
      "2             67.0  New Generation                 1980  62 years 05 months   \n",
      "3             68.0  New Generation                 1980   62 years 01 month   \n",
      "4             67.0  New Generation                 1980  62 years 05 months   \n",
      "5             68.0  New Generation                 1981            63 years   \n",
      "6             68.0  New Generation                 1979  61 years 06 months   \n",
      "7             67.0  New Generation                 1976  58 years 04 months   \n",
      "8             68.0  New Generation                 1979  61 years 06 months   \n",
      "9             67.0  New Generation                 1979  61 years 04 months   \n",
      "10            68.0  New Generation                 1980   62 years 01 month   \n",
      "11            67.0  New Generation                 1977  59 years 08 months   \n",
      "12            67.0  New Generation                 1977  59 years 08 months   \n",
      "13            67.0  New Generation                 1977  59 years 06 months   \n",
      "14            68.0  New Generation                 1980   62 years 01 month   \n",
      "15            67.0  New Generation                 1978            60 years   \n",
      "16            67.0  New Generation                 1979  61 years 04 months   \n",
      "17            68.0  New Generation                 1980  62 years 08 months   \n",
      "18            67.0  New Generation                 1979            61 years   \n",
      "19            68.0  New Generation                 1980  62 years 08 months   \n",
      "\n",
      "    resale_price                address             region  \n",
      "0       232000.0  406 ANG MO KIO AVE 10  NORTH-EAST REGION  \n",
      "1       250000.0   108 ANG MO KIO AVE 4  NORTH-EAST REGION  \n",
      "2       262000.0   602 ANG MO KIO AVE 5  NORTH-EAST REGION  \n",
      "3       265000.0  465 ANG MO KIO AVE 10  NORTH-EAST REGION  \n",
      "4       265000.0   601 ANG MO KIO AVE 5  NORTH-EAST REGION  \n",
      "5       275000.0   150 ANG MO KIO AVE 5  NORTH-EAST REGION  \n",
      "6       280000.0  447 ANG MO KIO AVE 10  NORTH-EAST REGION  \n",
      "7       285000.0   218 ANG MO KIO AVE 1  NORTH-EAST REGION  \n",
      "8       285000.0  447 ANG MO KIO AVE 10  NORTH-EAST REGION  \n",
      "9       285000.0   571 ANG MO KIO AVE 3  NORTH-EAST REGION  \n",
      "10      288500.0  534 ANG MO KIO AVE 10  NORTH-EAST REGION  \n",
      "11      295000.0   233 ANG MO KIO AVE 3  NORTH-EAST REGION  \n",
      "12      295000.0   235 ANG MO KIO AVE 3  NORTH-EAST REGION  \n",
      "13      297000.0   219 ANG MO KIO AVE 1  NORTH-EAST REGION  \n",
      "14      298000.0  536 ANG MO KIO AVE 10  NORTH-EAST REGION  \n",
      "15      298000.0   230 ANG MO KIO AVE 3  NORTH-EAST REGION  \n",
      "16      300000.0   570 ANG MO KIO AVE 3  NORTH-EAST REGION  \n",
      "17      301000.0   624 ANG MO KIO AVE 4  NORTH-EAST REGION  \n",
      "18      306000.0  441 ANG MO KIO AVE 10  NORTH-EAST REGION  \n",
      "19      312000.0   625 ANG MO KIO AVE 9  NORTH-EAST REGION  \n"
     ]
    }
   ],
   "source": [
    "print(df_hdb_resale_price.head(20))"
   ]
  },
  {
   "cell_type": "markdown",
   "id": "8bf837ee-8dd7-4fe5-9033-0dfad1b12f69",
   "metadata": {},
   "source": [
    "**Checking town**"
   ]
  },
  {
   "cell_type": "code",
   "execution_count": 134,
   "id": "cd3ebdce-cd2d-49e1-9f9a-7b4b90ff4207",
   "metadata": {},
   "outputs": [
    {
     "name": "stdout",
     "output_type": "stream",
     "text": [
      "The town BISHAN is in the CENTRAL REGION.\n"
     ]
    }
   ],
   "source": [
    "town_name = 'BISHAN'\n",
    "region = get_region(town_name)\n",
    "print(f'The town {town_name} is in the {region}.')"
   ]
  },
  {
   "cell_type": "markdown",
   "id": "4a158b71-7f3b-4239-9b03-ad21239c1980",
   "metadata": {},
   "source": [
    "### Plotting charts"
   ]
  },
  {
   "cell_type": "code",
   "execution_count": 137,
   "id": "2537246a-d343-4d6d-9015-f57b1ffc36a5",
   "metadata": {},
   "outputs": [
    {
     "data": {
      "image/png": "[encoded data removed]",
      "text/plain": [
       "<Figure size 1200x600 with 1 Axes>"
      ]
     },
     "metadata": {},
     "output_type": "display_data"
    }
   ],
   "source": [
    "grouped_df = df_hdb_resale_price.groupby(['region', 'flat_type']).size().reset_index(name='count')\n",
    "\n",
    "# Create a bar plot using seaborn\n",
    "plt.figure(figsize=(12, 6))\n",
    "sns.barplot(x='region', y='count', hue='flat_type', data=grouped_df)\n",
    "plt.title('Property Type Distribution by Region')\n",
    "plt.xlabel('Region')\n",
    "plt.ylabel('Count')\n",
    "plt.xticks(rotation=45)  # Rotate x-axis labels for better readability\n",
    "plt.legend(title='Property Type', bbox_to_anchor=(1.05, 1), loc='upper left')\n",
    "plt.tight_layout()\n",
    "plt.show()"
   ]
  },
  {
   "cell_type": "markdown",
   "id": "9930b081-bdd5-40ca-973e-77a07d10a4ab",
   "metadata": {},
   "source": [
    "### Export the file"
   ]
  },
  {
   "cell_type": "code",
   "execution_count": 143,
   "id": "417ffb78-1110-43d0-8bbf-d09a83f6ed03",
   "metadata": {},
   "outputs": [],
   "source": [
    "ep = r'C:\\Users\\fizah\\Documents\\WordPress Site\\Data Analyst Site\\hdb_region_address.csv'\n"
   ]
  },
  {
   "cell_type": "code",
   "execution_count": 145,
   "id": "3939d181-a734-4a79-b07b-9af4d3132345",
   "metadata": {},
   "outputs": [
    {
     "name": "stdout",
     "output_type": "stream",
     "text": [
      "Unique addresses exported to 'C:\\Users\\fizah\\Documents\\WordPress Site\\Data Analyst Site\\hdb_region_address.csv'\n"
     ]
    }
   ],
   "source": [
    "# Export the dataframe to a CSV file\n",
    "df_hdb_resale_price.to_csv(ep, index=False)\n",
    "print(f\"Unique addresses exported to '{ep}'\")"
   ]
  },
  {
   "cell_type": "code",
   "execution_count": null,
   "id": "fc0296ba-a27a-4855-8212-89021e9db1a1",
   "metadata": {},
   "outputs": [],
   "source": []
  },
  {
   "cell_type": "markdown",
   "id": "fd1ef49d-3a9c-459b-9772-8c4ebff02123",
   "metadata": {},
   "source": [
    "### Showing the uniq address and exporting it\n",
    "The dataset contains a total of 198412 rows. To retrieve postal codes, latitude, and longitude, I will use the unique function to fetch only distinct values instead of extracting all of them."
   ]
  },
  {
   "cell_type": "code",
   "execution_count": 56,
   "id": "db19e4c0-aafb-4d07-86b9-acaab6e9a09e",
   "metadata": {},
   "outputs": [],
   "source": [
    "# Get unique values of the 'address' column\n",
    "unique_address = df_hdb_resale_price['address'].unique()"
   ]
  },
  {
   "cell_type": "code",
   "execution_count": 58,
   "id": "94e780cc-b20f-48ca-bd1e-ae384d0a3d4b",
   "metadata": {},
   "outputs": [
    {
     "name": "stdout",
     "output_type": "stream",
     "text": [
      "(9616,)\n"
     ]
    }
   ],
   "source": [
    "print(unique_address.shape)"
   ]
  },
  {
   "cell_type": "code",
   "execution_count": 60,
   "id": "2c5ab5fb-66eb-4dc7-b6d0-e5d4c5c2bff8",
   "metadata": {},
   "outputs": [],
   "source": [
    "# Create a DataFrame from the unique addresses\n",
    "unique_address_df = pd.DataFrame(unique_address, columns=['unique_address'])"
   ]
  },
  {
   "cell_type": "code",
   "execution_count": 72,
   "id": "5989971e-948c-4f95-b140-6d415591964c",
   "metadata": {},
   "outputs": [],
   "source": [
    "# Define the export path\n",
    "export_path = r'C:\\Users\\fizah\\Documents\\WordPress Site\\Data Analyst Site\\unique_address.csv'"
   ]
  },
  {
   "cell_type": "code",
   "execution_count": 74,
   "id": "994f1212-65a4-4c4d-8243-2da43ca0e047",
   "metadata": {},
   "outputs": [
    {
     "name": "stdout",
     "output_type": "stream",
     "text": [
      "Unique addresses exported to 'C:\\Users\\fizah\\Documents\\WordPress Site\\Data Analyst Site\\unique_address.csv'\n"
     ]
    }
   ],
   "source": [
    "# Export the DataFrame to a CSV file\n",
    "unique_address_df.to_csv(export_path, index=False)\n",
    "\n",
    "print(f\"Unique addresses exported to '{export_path}'\")"
   ]
  },
  {
   "cell_type": "code",
   "execution_count": null,
   "id": "970280b9-d81a-46fe-af33-2aef3f480431",
   "metadata": {},
   "outputs": [],
   "source": []
  }
 ],
 "metadata": {
  "kernelspec": {
   "display_name": "Python [conda env:base] *",
   "language": "python",
   "name": "conda-base-py"
  },
  "language_info": {
   "codemirror_mode": {
    "name": "ipython",
    "version": 3
   },
   "file_extension": ".py",
   "mimetype": "text/x-python",
   "name": "python",
   "nbconvert_exporter": "python",
   "pygments_lexer": "ipython3",
   "version": "3.12.7"
  }
 },
 "nbformat": 4,
 "nbformat_minor": 5
}
