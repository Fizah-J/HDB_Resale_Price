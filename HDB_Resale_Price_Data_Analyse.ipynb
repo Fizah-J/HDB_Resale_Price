{
 "cells": [
  {
   "cell_type": "markdown",
   "id": "935688a9",
   "metadata": {},
   "source": [
    "## Importing Libraries"
   ]
  },
  {
   "cell_type": "code",
   "execution_count": 2,
   "id": "24c89a99",
   "metadata": {},
   "outputs": [],
   "source": [
    "import numpy as np\n",
    "import pandas as pd\n",
    "import matplotlib.pyplot as plt\n",
    "import seaborn as sns"
   ]
  },
  {
   "cell_type": "markdown",
   "id": "992c42e7",
   "metadata": {},
   "source": [
    "## Load Dataset"
   ]
  },
  {
   "cell_type": "code",
   "execution_count": 5,
   "id": "68abad1a",
   "metadata": {},
   "outputs": [],
   "source": [
    "hdb_resale_od = r\"E:\\Documents\\Personal Projects\\Dashboard\\HDB Resale Price\\ResaleflatpricesbasedonregistrationdatefromJan2017onwards.csv\" \n",
    "df_hdb_resale_price = pd.read_csv(hdb_resale_od)"
   ]
  },
  {
   "cell_type": "code",
   "execution_count": 6,
   "id": "889d29eb",
   "metadata": {},
   "outputs": [
    {
     "name": "stdout",
     "output_type": "stream",
     "text": [
      "     month        town flat_type block        street_name storey_range  \\\n",
      "0  2017-01  ANG MO KIO    2 ROOM   406  ANG MO KIO AVE 10     10 TO 12   \n",
      "1  2017-01  ANG MO KIO    3 ROOM   108   ANG MO KIO AVE 4     01 TO 03   \n",
      "2  2017-01  ANG MO KIO    3 ROOM   602   ANG MO KIO AVE 5     01 TO 03   \n",
      "3  2017-01  ANG MO KIO    3 ROOM   465  ANG MO KIO AVE 10     04 TO 06   \n",
      "4  2017-01  ANG MO KIO    3 ROOM   601   ANG MO KIO AVE 5     01 TO 03   \n",
      "\n",
      "   floor_area_sqm      flat_model  lease_commence_date     remaining_lease  \\\n",
      "0            44.0        Improved                 1979  61 years 04 months   \n",
      "1            67.0  New Generation                 1978  60 years 07 months   \n",
      "2            67.0  New Generation                 1980  62 years 05 months   \n",
      "3            68.0  New Generation                 1980   62 years 01 month   \n",
      "4            67.0  New Generation                 1980  62 years 05 months   \n",
      "\n",
      "   resale_price  \n",
      "0      232000.0  \n",
      "1      250000.0  \n",
      "2      262000.0  \n",
      "3      265000.0  \n",
      "4      265000.0  \n"
     ]
    }
   ],
   "source": [
    "print(df_hdb_resale_price.head())"
   ]
  },
  {
   "cell_type": "markdown",
   "id": "6f2cc6b3",
   "metadata": {},
   "source": [
    "## View information on the Dataset"
   ]
  },
  {
   "cell_type": "code",
   "execution_count": 7,
   "id": "a1efe715",
   "metadata": {},
   "outputs": [
    {
     "name": "stdout",
     "output_type": "stream",
     "text": [
      "<class 'pandas.core.frame.DataFrame'>\n",
      "RangeIndex: 190827 entries, 0 to 190826\n",
      "Data columns (total 11 columns):\n",
      " #   Column               Non-Null Count   Dtype  \n",
      "---  ------               --------------   -----  \n",
      " 0   month                190827 non-null  object \n",
      " 1   town                 190827 non-null  object \n",
      " 2   flat_type            190827 non-null  object \n",
      " 3   block                190827 non-null  object \n",
      " 4   street_name          190827 non-null  object \n",
      " 5   storey_range         190827 non-null  object \n",
      " 6   floor_area_sqm       190827 non-null  float64\n",
      " 7   flat_model           190827 non-null  object \n",
      " 8   lease_commence_date  190827 non-null  int64  \n",
      " 9   remaining_lease      190827 non-null  object \n",
      " 10  resale_price         190827 non-null  float64\n",
      "dtypes: float64(2), int64(1), object(8)\n",
      "memory usage: 16.0+ MB\n"
     ]
    }
   ],
   "source": [
    "df_hdb_resale_price.info()"
   ]
  },
  {
   "cell_type": "code",
   "execution_count": 8,
   "id": "4f26840e",
   "metadata": {},
   "outputs": [
    {
     "data": {
      "text/plain": [
       "(190827, 11)"
      ]
     },
     "execution_count": 8,
     "metadata": {},
     "output_type": "execute_result"
    }
   ],
   "source": [
    "df_hdb_resale_price.shape"
   ]
  },
  {
   "cell_type": "code",
   "execution_count": 9,
   "id": "6ee13a7e",
   "metadata": {},
   "outputs": [
    {
     "data": {
      "text/html": [
       "<div>\n",
       "<style scoped>\n",
       "    .dataframe tbody tr th:only-of-type {\n",
       "        vertical-align: middle;\n",
       "    }\n",
       "\n",
       "    .dataframe tbody tr th {\n",
       "        vertical-align: top;\n",
       "    }\n",
       "\n",
       "    .dataframe thead th {\n",
       "        text-align: right;\n",
       "    }\n",
       "</style>\n",
       "<table border=\"1\" class=\"dataframe\">\n",
       "  <thead>\n",
       "    <tr style=\"text-align: right;\">\n",
       "      <th></th>\n",
       "      <th>month</th>\n",
       "      <th>town</th>\n",
       "      <th>flat_type</th>\n",
       "      <th>block</th>\n",
       "      <th>street_name</th>\n",
       "      <th>storey_range</th>\n",
       "      <th>floor_area_sqm</th>\n",
       "      <th>flat_model</th>\n",
       "      <th>lease_commence_date</th>\n",
       "      <th>remaining_lease</th>\n",
       "      <th>resale_price</th>\n",
       "    </tr>\n",
       "  </thead>\n",
       "  <tbody>\n",
       "    <tr>\n",
       "      <th>0</th>\n",
       "      <td>2017-01</td>\n",
       "      <td>ANG MO KIO</td>\n",
       "      <td>2 ROOM</td>\n",
       "      <td>406</td>\n",
       "      <td>ANG MO KIO AVE 10</td>\n",
       "      <td>10 TO 12</td>\n",
       "      <td>44.0</td>\n",
       "      <td>Improved</td>\n",
       "      <td>1979</td>\n",
       "      <td>61 years 04 months</td>\n",
       "      <td>232000.0</td>\n",
       "    </tr>\n",
       "    <tr>\n",
       "      <th>1</th>\n",
       "      <td>2017-01</td>\n",
       "      <td>ANG MO KIO</td>\n",
       "      <td>3 ROOM</td>\n",
       "      <td>108</td>\n",
       "      <td>ANG MO KIO AVE 4</td>\n",
       "      <td>01 TO 03</td>\n",
       "      <td>67.0</td>\n",
       "      <td>New Generation</td>\n",
       "      <td>1978</td>\n",
       "      <td>60 years 07 months</td>\n",
       "      <td>250000.0</td>\n",
       "    </tr>\n",
       "    <tr>\n",
       "      <th>2</th>\n",
       "      <td>2017-01</td>\n",
       "      <td>ANG MO KIO</td>\n",
       "      <td>3 ROOM</td>\n",
       "      <td>602</td>\n",
       "      <td>ANG MO KIO AVE 5</td>\n",
       "      <td>01 TO 03</td>\n",
       "      <td>67.0</td>\n",
       "      <td>New Generation</td>\n",
       "      <td>1980</td>\n",
       "      <td>62 years 05 months</td>\n",
       "      <td>262000.0</td>\n",
       "    </tr>\n",
       "    <tr>\n",
       "      <th>3</th>\n",
       "      <td>2017-01</td>\n",
       "      <td>ANG MO KIO</td>\n",
       "      <td>3 ROOM</td>\n",
       "      <td>465</td>\n",
       "      <td>ANG MO KIO AVE 10</td>\n",
       "      <td>04 TO 06</td>\n",
       "      <td>68.0</td>\n",
       "      <td>New Generation</td>\n",
       "      <td>1980</td>\n",
       "      <td>62 years 01 month</td>\n",
       "      <td>265000.0</td>\n",
       "    </tr>\n",
       "    <tr>\n",
       "      <th>4</th>\n",
       "      <td>2017-01</td>\n",
       "      <td>ANG MO KIO</td>\n",
       "      <td>3 ROOM</td>\n",
       "      <td>601</td>\n",
       "      <td>ANG MO KIO AVE 5</td>\n",
       "      <td>01 TO 03</td>\n",
       "      <td>67.0</td>\n",
       "      <td>New Generation</td>\n",
       "      <td>1980</td>\n",
       "      <td>62 years 05 months</td>\n",
       "      <td>265000.0</td>\n",
       "    </tr>\n",
       "  </tbody>\n",
       "</table>\n",
       "</div>"
      ],
      "text/plain": [
       "     month        town flat_type block        street_name storey_range  \\\n",
       "0  2017-01  ANG MO KIO    2 ROOM   406  ANG MO KIO AVE 10     10 TO 12   \n",
       "1  2017-01  ANG MO KIO    3 ROOM   108   ANG MO KIO AVE 4     01 TO 03   \n",
       "2  2017-01  ANG MO KIO    3 ROOM   602   ANG MO KIO AVE 5     01 TO 03   \n",
       "3  2017-01  ANG MO KIO    3 ROOM   465  ANG MO KIO AVE 10     04 TO 06   \n",
       "4  2017-01  ANG MO KIO    3 ROOM   601   ANG MO KIO AVE 5     01 TO 03   \n",
       "\n",
       "   floor_area_sqm      flat_model  lease_commence_date     remaining_lease  \\\n",
       "0            44.0        Improved                 1979  61 years 04 months   \n",
       "1            67.0  New Generation                 1978  60 years 07 months   \n",
       "2            67.0  New Generation                 1980  62 years 05 months   \n",
       "3            68.0  New Generation                 1980   62 years 01 month   \n",
       "4            67.0  New Generation                 1980  62 years 05 months   \n",
       "\n",
       "   resale_price  \n",
       "0      232000.0  \n",
       "1      250000.0  \n",
       "2      262000.0  \n",
       "3      265000.0  \n",
       "4      265000.0  "
      ]
     },
     "execution_count": 9,
     "metadata": {},
     "output_type": "execute_result"
    }
   ],
   "source": [
    "df_hdb_resale_price.head()"
   ]
  },
  {
   "cell_type": "markdown",
   "id": "f2aa763e",
   "metadata": {},
   "source": [
    "### Check if there null values"
   ]
  },
  {
   "cell_type": "code",
   "execution_count": 10,
   "id": "8a45e503",
   "metadata": {},
   "outputs": [
    {
     "data": {
      "text/plain": [
       "month                  0\n",
       "town                   0\n",
       "flat_type              0\n",
       "block                  0\n",
       "street_name            0\n",
       "storey_range           0\n",
       "floor_area_sqm         0\n",
       "flat_model             0\n",
       "lease_commence_date    0\n",
       "remaining_lease        0\n",
       "resale_price           0\n",
       "dtype: int64"
      ]
     },
     "execution_count": 10,
     "metadata": {},
     "output_type": "execute_result"
    }
   ],
   "source": [
    "df_hdb_resale_price.isnull().sum()"
   ]
  },
  {
   "cell_type": "markdown",
   "id": "c5603c20",
   "metadata": {},
   "source": [
    "### Check if there are duplicates value"
   ]
  },
  {
   "cell_type": "code",
   "execution_count": 11,
   "id": "b415709c",
   "metadata": {},
   "outputs": [
    {
     "name": "stdout",
     "output_type": "stream",
     "text": [
      "Duplicates: 292\n",
      "          month          town flat_type block        street_name storey_range  \\\n",
      "243     2017-01   BUKIT MERAH    4 ROOM   106     HENDERSON CRES     07 TO 09   \n",
      "305     2017-01  CENTRAL AREA    3 ROOM   271           QUEEN ST     16 TO 18   \n",
      "510     2017-01   JURONG EAST    4 ROOM   265        TOH GUAN RD     04 TO 06   \n",
      "591     2017-01   JURONG WEST    4 ROOM  337A       TAH CHING RD     19 TO 21   \n",
      "672     2017-01     PASIR RIS    4 ROOM   753    PASIR RIS ST 71     01 TO 03   \n",
      "...         ...           ...       ...   ...                ...          ...   \n",
      "182040  2024-06       PUNGGOL    4 ROOM  671A   EDGEFIELD PLAINS     13 TO 15   \n",
      "186918  2024-08       HOUGANG    4 ROOM  997A      BUANGKOK CRES     04 TO 06   \n",
      "187517  2024-08       PUNGGOL    4 ROOM  220B        SUMANG LANE     07 TO 09   \n",
      "187733  2024-08     SEMBAWANG    4 ROOM  508C  WELLINGTON CIRCLE     07 TO 09   \n",
      "190121  2024-09      SENGKANG    3 ROOM  471C        FERNVALE ST     01 TO 03   \n",
      "\n",
      "        floor_area_sqm flat_model  lease_commence_date     remaining_lease  \\\n",
      "243               81.0   Improved                 1975            57 years   \n",
      "305               68.0   Improved                 1979  61 years 02 months   \n",
      "510              101.0    Model A                 1998  80 years 09 months   \n",
      "591               92.0    Model A                 2010  92 years 03 months   \n",
      "672              105.0    Model A                 1996  78 years 10 months   \n",
      "...                ...        ...                  ...                 ...   \n",
      "182040            90.0    Model A                 2015  90 years 07 months   \n",
      "186918            93.0    Model A                 2018  93 years 04 months   \n",
      "187517            93.0    Model A                 2018  93 years 05 months   \n",
      "187733            85.0    Model A                 2004   79 years 01 month   \n",
      "190121            68.0    Model A                 2016   91 years 01 month   \n",
      "\n",
      "        resale_price  \n",
      "243         470000.0  \n",
      "305         470000.0  \n",
      "510         470000.0  \n",
      "591         470000.0  \n",
      "672         368000.0  \n",
      "...              ...  \n",
      "182040      620000.0  \n",
      "186918      595000.0  \n",
      "187517      645000.0  \n",
      "187733      520000.0  \n",
      "190121      475000.0  \n",
      "\n",
      "[292 rows x 11 columns]\n"
     ]
    }
   ],
   "source": [
    "duplicates = df_hdb_resale_price[df_hdb_resale_price.duplicated()]\n",
    "\n",
    "#total count of duplicate rows in the DataFrame\n",
    "print('Duplicates:', len(duplicates))\n",
    "\n",
    "#print the duplicate rows\n",
    "print(duplicates)"
   ]
  },
  {
   "cell_type": "markdown",
   "id": "6aa4adad",
   "metadata": {},
   "source": [
    "The duplicate check is applied to every row across all columns in the DataFrame. "
   ]
  },
  {
   "cell_type": "markdown",
   "id": "23c9c17c",
   "metadata": {},
   "source": [
    "## Preparing the Dataset"
   ]
  },
  {
   "cell_type": "markdown",
   "id": "cd5cf3af",
   "metadata": {},
   "source": [
    "### Remove the duplicate values and modify the original DataFrame"
   ]
  },
  {
   "cell_type": "code",
   "execution_count": 12,
   "id": "474e8714",
   "metadata": {},
   "outputs": [],
   "source": [
    "#creating a new DataFrame without duplicates while keeping the first occurence\n",
    "df_hdb_resale_price_no_duplicates = df_hdb_resale_price.drop_duplicates(keep='first')"
   ]
  },
  {
   "cell_type": "code",
   "execution_count": 13,
   "id": "a39a26cb",
   "metadata": {},
   "outputs": [
    {
     "data": {
      "text/plain": [
       "(190827, 11)"
      ]
     },
     "execution_count": 13,
     "metadata": {},
     "output_type": "execute_result"
    }
   ],
   "source": [
    "df_hdb_resale_price.shape"
   ]
  },
  {
   "cell_type": "markdown",
   "id": "99434f90",
   "metadata": {},
   "source": [
    "### Creating a new column; address by combining block and street_name"
   ]
  },
  {
   "cell_type": "code",
   "execution_count": 14,
   "id": "059dcb2c",
   "metadata": {},
   "outputs": [],
   "source": [
    "df_hdb_resale_price['address'] = df_hdb_resale_price['block'] + ' ' + df_hdb_resale_price['street_name']"
   ]
  },
  {
   "cell_type": "code",
   "execution_count": 15,
   "id": "a0cb6c8f",
   "metadata": {},
   "outputs": [
    {
     "name": "stdout",
     "output_type": "stream",
     "text": [
      "          month        town  flat_type block        street_name storey_range  \\\n",
      "0       2017-01  ANG MO KIO     2 ROOM   406  ANG MO KIO AVE 10     10 TO 12   \n",
      "1       2017-01  ANG MO KIO     3 ROOM   108   ANG MO KIO AVE 4     01 TO 03   \n",
      "2       2017-01  ANG MO KIO     3 ROOM   602   ANG MO KIO AVE 5     01 TO 03   \n",
      "3       2017-01  ANG MO KIO     3 ROOM   465  ANG MO KIO AVE 10     04 TO 06   \n",
      "4       2017-01  ANG MO KIO     3 ROOM   601   ANG MO KIO AVE 5     01 TO 03   \n",
      "...         ...         ...        ...   ...                ...          ...   \n",
      "190822  2024-09      YISHUN  EXECUTIVE   358     YISHUN RING RD     01 TO 03   \n",
      "190823  2024-09      YISHUN  EXECUTIVE   606       YISHUN ST 61     01 TO 03   \n",
      "190824  2024-09      YISHUN  EXECUTIVE   641       YISHUN ST 61     07 TO 09   \n",
      "190825  2024-09      YISHUN  EXECUTIVE   606       YISHUN ST 61     13 TO 15   \n",
      "190826  2024-09      YISHUN  EXECUTIVE   824       YISHUN ST 81     01 TO 03   \n",
      "\n",
      "        floor_area_sqm      flat_model  lease_commence_date  \\\n",
      "0                 44.0        Improved                 1979   \n",
      "1                 67.0  New Generation                 1978   \n",
      "2                 67.0  New Generation                 1980   \n",
      "3                 68.0  New Generation                 1980   \n",
      "4                 67.0  New Generation                 1980   \n",
      "...                ...             ...                  ...   \n",
      "190822           146.0      Maisonette                 1988   \n",
      "190823           147.0       Apartment                 1987   \n",
      "190824           164.0       Apartment                 1992   \n",
      "190825           147.0       Apartment                 1987   \n",
      "190826           146.0      Maisonette                 1987   \n",
      "\n",
      "           remaining_lease  resale_price                address  \n",
      "0       61 years 04 months      232000.0  406 ANG MO KIO AVE 10  \n",
      "1       60 years 07 months      250000.0   108 ANG MO KIO AVE 4  \n",
      "2       62 years 05 months      262000.0   602 ANG MO KIO AVE 5  \n",
      "3        62 years 01 month      265000.0  465 ANG MO KIO AVE 10  \n",
      "4       62 years 05 months      265000.0   601 ANG MO KIO AVE 5  \n",
      "...                    ...           ...                    ...  \n",
      "190822  62 years 10 months      900000.0     358 YISHUN RING RD  \n",
      "190823  62 years 03 months      770000.0       606 YISHUN ST 61  \n",
      "190824  66 years 10 months     1068888.0       641 YISHUN ST 61  \n",
      "190825  62 years 03 months      880000.0       606 YISHUN ST 61  \n",
      "190826  62 years 03 months      893888.0       824 YISHUN ST 81  \n",
      "\n",
      "[190827 rows x 12 columns]\n"
     ]
    }
   ],
   "source": [
    "print(df_hdb_resale_price)"
   ]
  },
  {
   "cell_type": "markdown",
   "id": "23941610",
   "metadata": {},
   "source": [
    "### Grouping the town by region"
   ]
  },
  {
   "cell_type": "markdown",
   "id": "51a26dfb",
   "metadata": {},
   "source": [
    "By referencing both the HDB website (https://www.hdb.gov.sg/about-us/history/hdb-towns-your-home) and https://www.propertyguru.com.sg/singapore-property-listing/hdb/kallang-whampoa, I categorize the towns by region. This classification will be beneficial for analyzing market trends and will help in understanding how different areas influence the housing market."
   ]
  },
  {
   "cell_type": "markdown",
   "id": "f71cf2ef",
   "metadata": {},
   "source": [
    "**Function for categorizing the town into different regions based on its name**"
   ]
  },
  {
   "cell_type": "code",
   "execution_count": 16,
   "id": "d8bf1b6e",
   "metadata": {},
   "outputs": [],
   "source": [
    "def get_region(town):\n",
    "    # Define a dictionary mapping towns to their respective regions\n",
    "    regions = {\n",
    "        'CENTRAL REGION': ['BISHAN', 'BUKIT MERAH', 'GEYLANG', 'KALLANG', \n",
    "                           'MARINE PARADE', 'QUEENSTOWN', 'KALLANG/WHAMPOA', \n",
    "                           'BUKIT TIMAH', 'CENTRAL AREA', 'TOA PAYOH'],\n",
    "        'EAST REGION': ['BEDOK', 'CHANGI', 'CHANGI BAY', 'PAYA LEBAR', \n",
    "                        'PASIR RIS', 'TAMPINES'],\n",
    "        'NORTH REGION': ['MANDAI', 'LIM CHU KANG', 'SEMBAWANG', 'SIMPANG', \n",
    "                         'SUNGEI KADUT', 'WOODLANDS', 'YISHUN'],\n",
    "        'NORTH-EAST REGION': ['ANG MO KIO', 'HOUGANG', 'PUNGGOL', \n",
    "                              'SELETAR', 'SENGKANG', 'SERANGOON'],\n",
    "        'WEST REGION': ['BUKIT BATOK', 'BUKIT PANJANG', 'BOON LAY', \n",
    "                        'PIONEER', 'CHOA CHU KANG', 'CLEMENTI', \n",
    "                        'JURONG EAST', 'JURONG WEST', 'TENGAH', 'TUAS', \n",
    "                        'WESTERN ISLANDS', 'BENOI', 'GHIM MOH', \n",
    "                        'PANDAN GARDENS', 'JURONG ISLAND', 'KENT RIDGE', \n",
    "                        'NANYANG', 'PASIR LABA', 'TEBAN GARDENS', \n",
    "                        'TOH TUCK', 'TUAS SOUTH', 'WEST COAST']\n",
    "    }\n",
    "    \n",
    "    # Normalize the town name to upper case for comparison\n",
    "    town = town.upper()\n",
    "\n",
    "    # Loop through the dictionary to find the region\n",
    "    for region, towns in regions.items():\n",
    "        if town in towns:\n",
    "            return region\n",
    "            \n",
    "    return 'OTHER'"
   ]
  },
  {
   "cell_type": "code",
   "execution_count": 17,
   "id": "d3d39258",
   "metadata": {},
   "outputs": [],
   "source": [
    "# Apply the function to the 'town' column and create a new 'region' column\n",
    "df_hdb_resale_price['region'] = df_hdb_resale_price['town'].apply(get_region)"
   ]
  },
  {
   "cell_type": "code",
   "execution_count": 18,
   "id": "d47650bc",
   "metadata": {},
   "outputs": [
    {
     "name": "stdout",
     "output_type": "stream",
     "text": [
      "      month        town flat_type block        street_name storey_range  \\\n",
      "0   2017-01  ANG MO KIO    2 ROOM   406  ANG MO KIO AVE 10     10 TO 12   \n",
      "1   2017-01  ANG MO KIO    3 ROOM   108   ANG MO KIO AVE 4     01 TO 03   \n",
      "2   2017-01  ANG MO KIO    3 ROOM   602   ANG MO KIO AVE 5     01 TO 03   \n",
      "3   2017-01  ANG MO KIO    3 ROOM   465  ANG MO KIO AVE 10     04 TO 06   \n",
      "4   2017-01  ANG MO KIO    3 ROOM   601   ANG MO KIO AVE 5     01 TO 03   \n",
      "5   2017-01  ANG MO KIO    3 ROOM   150   ANG MO KIO AVE 5     01 TO 03   \n",
      "6   2017-01  ANG MO KIO    3 ROOM   447  ANG MO KIO AVE 10     04 TO 06   \n",
      "7   2017-01  ANG MO KIO    3 ROOM   218   ANG MO KIO AVE 1     04 TO 06   \n",
      "8   2017-01  ANG MO KIO    3 ROOM   447  ANG MO KIO AVE 10     04 TO 06   \n",
      "9   2017-01  ANG MO KIO    3 ROOM   571   ANG MO KIO AVE 3     01 TO 03   \n",
      "10  2017-01  ANG MO KIO    3 ROOM   534  ANG MO KIO AVE 10     01 TO 03   \n",
      "11  2017-01  ANG MO KIO    3 ROOM   233   ANG MO KIO AVE 3     10 TO 12   \n",
      "12  2017-01  ANG MO KIO    3 ROOM   235   ANG MO KIO AVE 3     04 TO 06   \n",
      "13  2017-01  ANG MO KIO    3 ROOM   219   ANG MO KIO AVE 1     07 TO 09   \n",
      "14  2017-01  ANG MO KIO    3 ROOM   536  ANG MO KIO AVE 10     07 TO 09   \n",
      "15  2017-01  ANG MO KIO    3 ROOM   230   ANG MO KIO AVE 3     04 TO 06   \n",
      "16  2017-01  ANG MO KIO    3 ROOM   570   ANG MO KIO AVE 3     10 TO 12   \n",
      "17  2017-01  ANG MO KIO    3 ROOM   624   ANG MO KIO AVE 4     04 TO 06   \n",
      "18  2017-01  ANG MO KIO    3 ROOM   441  ANG MO KIO AVE 10     07 TO 09   \n",
      "19  2017-01  ANG MO KIO    3 ROOM   625   ANG MO KIO AVE 9     04 TO 06   \n",
      "\n",
      "    floor_area_sqm      flat_model  lease_commence_date     remaining_lease  \\\n",
      "0             44.0        Improved                 1979  61 years 04 months   \n",
      "1             67.0  New Generation                 1978  60 years 07 months   \n",
      "2             67.0  New Generation                 1980  62 years 05 months   \n",
      "3             68.0  New Generation                 1980   62 years 01 month   \n",
      "4             67.0  New Generation                 1980  62 years 05 months   \n",
      "5             68.0  New Generation                 1981            63 years   \n",
      "6             68.0  New Generation                 1979  61 years 06 months   \n",
      "7             67.0  New Generation                 1976  58 years 04 months   \n",
      "8             68.0  New Generation                 1979  61 years 06 months   \n",
      "9             67.0  New Generation                 1979  61 years 04 months   \n",
      "10            68.0  New Generation                 1980   62 years 01 month   \n",
      "11            67.0  New Generation                 1977  59 years 08 months   \n",
      "12            67.0  New Generation                 1977  59 years 08 months   \n",
      "13            67.0  New Generation                 1977  59 years 06 months   \n",
      "14            68.0  New Generation                 1980   62 years 01 month   \n",
      "15            67.0  New Generation                 1978            60 years   \n",
      "16            67.0  New Generation                 1979  61 years 04 months   \n",
      "17            68.0  New Generation                 1980  62 years 08 months   \n",
      "18            67.0  New Generation                 1979            61 years   \n",
      "19            68.0  New Generation                 1980  62 years 08 months   \n",
      "\n",
      "    resale_price                address             region  \n",
      "0       232000.0  406 ANG MO KIO AVE 10  NORTH-EAST REGION  \n",
      "1       250000.0   108 ANG MO KIO AVE 4  NORTH-EAST REGION  \n",
      "2       262000.0   602 ANG MO KIO AVE 5  NORTH-EAST REGION  \n",
      "3       265000.0  465 ANG MO KIO AVE 10  NORTH-EAST REGION  \n",
      "4       265000.0   601 ANG MO KIO AVE 5  NORTH-EAST REGION  \n",
      "5       275000.0   150 ANG MO KIO AVE 5  NORTH-EAST REGION  \n",
      "6       280000.0  447 ANG MO KIO AVE 10  NORTH-EAST REGION  \n",
      "7       285000.0   218 ANG MO KIO AVE 1  NORTH-EAST REGION  \n",
      "8       285000.0  447 ANG MO KIO AVE 10  NORTH-EAST REGION  \n",
      "9       285000.0   571 ANG MO KIO AVE 3  NORTH-EAST REGION  \n",
      "10      288500.0  534 ANG MO KIO AVE 10  NORTH-EAST REGION  \n",
      "11      295000.0   233 ANG MO KIO AVE 3  NORTH-EAST REGION  \n",
      "12      295000.0   235 ANG MO KIO AVE 3  NORTH-EAST REGION  \n",
      "13      297000.0   219 ANG MO KIO AVE 1  NORTH-EAST REGION  \n",
      "14      298000.0  536 ANG MO KIO AVE 10  NORTH-EAST REGION  \n",
      "15      298000.0   230 ANG MO KIO AVE 3  NORTH-EAST REGION  \n",
      "16      300000.0   570 ANG MO KIO AVE 3  NORTH-EAST REGION  \n",
      "17      301000.0   624 ANG MO KIO AVE 4  NORTH-EAST REGION  \n",
      "18      306000.0  441 ANG MO KIO AVE 10  NORTH-EAST REGION  \n",
      "19      312000.0   625 ANG MO KIO AVE 9  NORTH-EAST REGION  \n"
     ]
    }
   ],
   "source": [
    "print(df_hdb_resale_price.head(20))"
   ]
  },
  {
   "cell_type": "markdown",
   "id": "fab82714",
   "metadata": {},
   "source": [
    "**Checking town**"
   ]
  },
  {
   "cell_type": "code",
   "execution_count": 19,
   "id": "9c39c214",
   "metadata": {},
   "outputs": [
    {
     "name": "stdout",
     "output_type": "stream",
     "text": [
      "The town BISHAN is in the CENTRAL REGION.\n"
     ]
    }
   ],
   "source": [
    "town_name = 'BISHAN'\n",
    "region = get_region(town_name)\n",
    "print(f'The town {town_name} is in the {region}.')"
   ]
  },
  {
   "cell_type": "markdown",
   "id": "b9b75d30",
   "metadata": {},
   "source": [
    "### Plotting charts"
   ]
  },
  {
   "cell_type": "code",
   "execution_count": 20,
   "id": "5c5e4ab0",
   "metadata": {},
   "outputs": [
    {
     "data": {
      "image/png": "[encoded data removed]",
      "text/plain": [
       "<Figure size 1200x600 with 1 Axes>"
      ]
     },
     "metadata": {},
     "output_type": "display_data"
    }
   ],
   "source": [
    "grouped_df = df_hdb_resale_price.groupby(['region', 'flat_type']).size().reset_index(name='count')\n",
    "\n",
    "# Create a bar plot using seaborn\n",
    "plt.figure(figsize=(12, 6))\n",
    "sns.barplot(x='region', y='count', hue='flat_type', data=grouped_df)\n",
    "plt.title('Property Type Distribution by Region')\n",
    "plt.xlabel('Region')\n",
    "plt.ylabel('Count')\n",
    "plt.xticks(rotation=45)  # Rotate x-axis labels for better readability\n",
    "plt.legend(title='Property Type', bbox_to_anchor=(1.05, 1), loc='upper left')\n",
    "plt.tight_layout()\n",
    "plt.show()"
   ]
  },
  {
   "cell_type": "markdown",
   "id": "5412a883",
   "metadata": {},
   "source": [
    "## Export the main dataset"
   ]
  },
  {
   "cell_type": "code",
   "execution_count": 21,
   "id": "536a96ae",
   "metadata": {},
   "outputs": [
    {
     "name": "stdout",
     "output_type": "stream",
     "text": [
      "Main data exported to 'E:\\Documents\\Personal Projects\\Dashboard\\HDB Resale Price\\main_data.csv'\n"
     ]
    }
   ],
   "source": [
    "export_path = r'E:\\Documents\\Personal Projects\\Dashboard\\HDB Resale Price\\main_data.csv'\n",
    "df_hdb_resale_price.to_csv(export_path, index = False)\n",
    "print(f\"Main data exported to '{export_path}'\")"
   ]
  },
  {
   "cell_type": "markdown",
   "id": "80d45f20",
   "metadata": {},
   "source": [
    "### Showing the uniq address and exporting it\n",
    "The dataset contains a total of 190,827 rows. To retrieve postal codes, latitude, and longitude, I will use the unique function to fetch only distinct values instead of extracting all of them."
   ]
  },
  {
   "cell_type": "code",
   "execution_count": 64,
   "id": "0373cff6",
   "metadata": {},
   "outputs": [],
   "source": [
    "# Get unique values of the 'address' column\n",
    "unique_address = df_hdb_resale_price['address'].unique()"
   ]
  },
  {
   "cell_type": "code",
   "execution_count": 68,
   "id": "1cc0af10",
   "metadata": {},
   "outputs": [
    {
     "name": "stdout",
     "output_type": "stream",
     "text": [
      "(9581,)\n"
     ]
    }
   ],
   "source": [
    "print(unique_address.shape)"
   ]
  },
  {
   "cell_type": "code",
   "execution_count": 65,
   "id": "dd5d3e74",
   "metadata": {},
   "outputs": [],
   "source": [
    "# Create a DataFrame from the unique addresses\n",
    "unique_address_df = pd.DataFrame(unique_address, columns=['unique_address'])"
   ]
  },
  {
   "cell_type": "code",
   "execution_count": 69,
   "id": "261ee708",
   "metadata": {},
   "outputs": [],
   "source": [
    "# Define the export path\n",
    "export_path = r'E:\\Documents\\Personal Projects\\Dashboard\\HDB Resale Price\\unique_add.csv'"
   ]
  },
  {
   "cell_type": "code",
   "execution_count": 70,
   "id": "9a6bd257",
   "metadata": {},
   "outputs": [
    {
     "name": "stdout",
     "output_type": "stream",
     "text": [
      "Unique addresses exported to 'E:\\Documents\\Personal Projects\\Dashboard\\HDB Resale Price\\unique_addresses.csv'\n"
     ]
    }
   ],
   "source": [
    "# Export the DataFrame to a CSV file\n",
    "unique_address_df.to_csv(export_path, index=False)\n",
    "\n",
    "print(f\"Unique addresses exported to '{export_path}'\")"
   ]
  },
  {
   "cell_type": "code",
   "execution_count": null,
   "id": "3717a20c",
   "metadata": {},
   "outputs": [],
   "source": []
  },
  {
   "cell_type": "markdown",
   "id": "8675f42b",
   "metadata": {},
   "source": [
    "## At this stage, I move to my Visual Studio environment to authenticate myself with OneMap in order to retrive the geolocation of my dataset"
   ]
  }
 ],
 "metadata": {
  "kernelspec": {
   "display_name": "Python 3 (ipykernel)",
   "language": "python",
   "name": "python3"
  },
  "language_info": {
   "codemirror_mode": {
    "name": "ipython",
    "version": 3
   },
   "file_extension": ".py",
   "mimetype": "text/x-python",
   "name": "python",
   "nbconvert_exporter": "python",
   "pygments_lexer": "ipython3",
   "version": "3.10.9"
  }
 },
 "nbformat": 4,
 "nbformat_minor": 5
}
